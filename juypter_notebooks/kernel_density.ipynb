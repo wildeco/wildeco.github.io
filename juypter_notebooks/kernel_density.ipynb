{
 "cells": [
  {
   "cell_type": "markdown",
   "metadata": {},
   "source": [
    "***Kernel Smoothing or Low-Pass Filters (they let low-frequency data pass through)***"
   ]
  },
  {
   "cell_type": "markdown",
   "metadata": {},
   "source": [
    "Kernel smoothing also known as the Kernel Density Estimation (KDE) is a \n",
    "non-parametric way to estimate the probability density function of a random variable, \n",
    "and is widely applied to area-based problems in Ecology. In spatial analysis, KDE calculates the density of \n",
    "features in a neighbourhood around those features. \n",
    "\n",
    "KDE have various uses, with one of the simplest being data visualisation. For \n",
    "instance, when there are many overlapping points in the raw data, it can be hard\n",
    "to interpret. KDE can be used to smooth the data and provide a clearer visualisation e.g., identifying hotspots or coldspots in the study area. \n",
    "\n",
    "\n",
    "\n"
   ]
  },
  {
   "cell_type": "markdown",
   "metadata": {},
   "source": [
    "Bandwidth selection (sigma) is important for kernel smoothing\n",
    "\n",
    "The choice of bandwidth has a significant impact on the estimate obtained from KDE, much more than the specific shape of the kernel used (Diggle 2005). You can select the bandwidth through different methods, such as a \"rule of thumb,\" cross-validation, \"plug-in methods,\" or other techniques.\n",
    "\n",
    "Scott's Rule: \n",
    "n**(-1./(d+4)) ; where n is the number of observations and d is the number of dimensions of the data.\n"
   ]
  },
  {
   "cell_type": "markdown",
   "metadata": {},
   "source": [
    "**References**\n"
   ]
  },
  {
   "cell_type": "markdown",
   "metadata": {},
   "source": [
    "\n",
    "Diggle 2005 A Kernel Method for Smoothing Point Process Data \n",
    "\n",
    "\n"
   ]
  },
  {
   "cell_type": "code",
   "execution_count": 1,
   "metadata": {
    "vscode": {
     "languageId": "r"
    }
   },
   "outputs": [
    {
     "name": "stderr",
     "output_type": "stream",
     "text": [
      "terra 1.7.3\n",
      "\n"
     ]
    }
   ],
   "source": [
    "library(terra)"
   ]
  },
  {
   "cell_type": "code",
   "execution_count": 4,
   "metadata": {
    "vscode": {
     "languageId": "r"
    }
   },
   "outputs": [
    {
     "ename": "ERROR",
     "evalue": "Error in runif(rast(nrow = 100, ncol = 100, xmin = 0, xmax = 100, ymin = 0, : unused argument (1)\n",
     "output_type": "error",
     "traceback": [
      "Error in runif(rast(nrow = 100, ncol = 100, xmin = 0, xmax = 100, ymin = 0, : unused argument (1)\nTraceback:\n"
     ]
    }
   ],
   "source": [
    "# Create a random raster using terra package\n",
    "raster <- rast(nrow=100, ncol=100, xmin=0, xmax=100, ymin=0, ymax=100) |> runif(., 0, 1)\n",
    "plot(raster)"
   ]
  }
 ],
 "metadata": {
  "kernelspec": {
   "display_name": "R",
   "language": "R",
   "name": "ir"
  },
  "language_info": {
   "codemirror_mode": "r",
   "file_extension": ".r",
   "mimetype": "text/x-r-source",
   "name": "R",
   "pygments_lexer": "r",
   "version": "4.2.3"
  },
  "orig_nbformat": 4
 },
 "nbformat": 4,
 "nbformat_minor": 2
}
